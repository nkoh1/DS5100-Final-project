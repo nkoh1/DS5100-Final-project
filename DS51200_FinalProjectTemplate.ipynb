{
 "cells": [
  {
   "cell_type": "markdown",
   "id": "45762487-d33f-486d-8e38-2cdea04e3528",
   "metadata": {},
   "source": [
    "# Final Project Report\n",
    "\n",
    "* Class: DS 5100\n",
    "* Student Name: Nathan Koh\n",
    "* Student Net ID: unu3vx\n",
    "* This URL: a URL to the notebook source of this document"
   ]
  },
  {
   "cell_type": "markdown",
   "id": "acf756c1-ecaa-41dc-b6ca-d566eb94560b",
   "metadata": {},
   "source": [
    "# Instructions\n",
    "\n",
    "Follow the instructions in the Final Project isntructions notebook and put evidence of your work in this notebook.\n",
    "\n",
    "Total points for each subsection under **Deliverables** and **Scenarios** are given in parentheses.\n",
    "\n",
    "Breakdowns of points within subsections are specified within subsection instructions as bulleted lists.\n",
    "\n",
    "This project is worth **50 points**."
   ]
  },
  {
   "cell_type": "markdown",
   "id": "89dc7a32-f682-4402-8c1e-b6ccdb3e0e39",
   "metadata": {},
   "source": [
    "# Deliverables"
   ]
  },
  {
   "cell_type": "markdown",
   "id": "d32cb273-9a40-4909-a7ce-51f6e4958d3c",
   "metadata": {},
   "source": [
    "## The Monte Carlo Module (10)\n",
    "\n",
    "- URL included, appropriately named (1).\n",
    "- Includes all three specified classes (3).\n",
    "- Includes at least all 12 specified methods (6; .5 each)."
   ]
  },
  {
   "cell_type": "markdown",
   "id": "f5f3b070-de9e-4de9-bfae-8974d184aa28",
   "metadata": {},
   "source": [
    "Put the URL to your GitHub repo here.\n",
    "\n",
    "Repo URL:https://github.com/nkoh1/DS5100-Final-project/commits?author=nkoh1"
   ]
  },
  {
   "cell_type": "markdown",
   "id": "162370fb-3729-4c85-b040-8c25b2c966d2",
   "metadata": {},
   "source": [
    "Paste a copyy of your module here.\n",
    "\n",
    "NOTE: Paste as text, not as code. Use triple backticks to wrap your code blocks."
   ]
  },
  {
   "cell_type": "code",
   "execution_count": 133,
   "id": "a0743efc-a785-4b5c-a9e6-b65d4507a67f",
   "metadata": {},
   "outputs": [],
   "source": [
    "# A code block with your classes.\n",
    "import numpy as np\n",
    "import pandas as pd\n",
    "import random\n",
    "\n",
    "class Die: \n",
    "    \"\"\"\n",
    "    The Die class takes a NumPy array to act as a face of the object. In this case, it will be either a 6-sided die or a coin which has 2 sides.\n",
    "    The data type of the array may be either strings or numbers with all values being distinct from each other. By default, a die or a coin will have the same weight for each side.\n",
    "\n",
    "    Methods:\n",
    "    -----------\n",
    "    weight_change(self, weight, die_face):\n",
    "        Changes the weight of a specific side or sides of the die.\n",
    "    \n",
    "    roll_dice(self, n_rolls=1):\n",
    "        Lets the user roll the die an arbitrary number of times. The default number of rolls is 1.\n",
    "    \n",
    "    roll_state(self):\n",
    "        Returns the latest roll result in a dataframe. This includes the values of the die and its weights.\n",
    "    \n",
    "    \"\"\"\n",
    "    def __init__ (self, n_sides: np.ndarray, weight: np.ndarray):\n",
    "        \"\"\"\n",
    "        Description: Initializes the Die object with sides and weights. Default weight is 1 and sides is 6.\n",
    "        \n",
    "        __init__ Parameters: \n",
    "            n_sides: NumPy array\n",
    "            weight: NumPy array\n",
    "            \n",
    "        Raises:\n",
    "        \n",
    "        TypeError: If n_sides is not a NumPy array.\n",
    "        \n",
    "        ValueError: If the values assigned to n_sides are not unique.\n",
    "    \n",
    "        \"\"\"\n",
    "        if not isinstance(n_sides, np.ndarray):\n",
    "            raise TypeError(\"n_sides must be NumPy array\")\n",
    "\n",
    "        if len(n_sides) != len(set(n_sides)):\n",
    "            raise ValueError(\"Values in this array are not unique\")\n",
    "        \n",
    "        self.n_sides = n_sides\n",
    "        \n",
    "        if weight is None:\n",
    "            self.weight = np.ones(len(n_sides))\n",
    "        \n",
    "        \n",
    "        self.weight = weight\n",
    "\n",
    "        self._side_wt = pd.DataFrame({\"Sides\":self.n_sides, 'Die': self.weight})\n",
    "        \n",
    "    def weight_change(self, weight, die_face): #weight default 1\n",
    "        \"\"\"\n",
    "        Description: Lets the user change the weight of a dice face. Default weight is 1.\n",
    "\n",
    "        weight_change Parameters: \n",
    "            weight: integer\n",
    "            die_face: integer\n",
    "            \n",
    "        Raises:\n",
    "\n",
    "        TypeError: If weight is not of the correct data type.\n",
    "        \n",
    "        IndexError: If the chosen dice face is not in the NumPy array (ie: choosing 7 when there are only 6 sides).\n",
    "        \n",
    "        \"\"\"\n",
    "        if not isinstance (weight, int) or weight <=0:\n",
    "            raise TypeError(\"The weight is not a valid type.\")\n",
    "        if die_face not in self.n_sides:\n",
    "            raise IndexError(f\"{die_face} is not a valid index\")\n",
    "\n",
    "         \n",
    "        index = np.where(self.n_sides ==die_face)[0][0]\n",
    "        self.weight[index]= weight #updates weight\n",
    "        \n",
    "        self._side_wt['Die'] = self._side_wt.apply(lambda row: weight if row['Sides'] == die_face else row['Die'], axis=1)\n",
    "\n",
    "\n",
    "        \n",
    "    def roll_dice(self, n_rolls=1): #defaulted to 1 roll\n",
    "        \"\"\"\n",
    "        Description: Rolls the dice a specified number of times. The default number of rolls is 1.\n",
    "        \n",
    "        roll_dice Parameters: \n",
    "            n_rolls: integer\n",
    "\n",
    "            \n",
    "        Raises:\n",
    "        \n",
    "        None\n",
    "    \n",
    "        \"\"\"\n",
    "        throw = np.random.choice(self.n_sides, size = n_rolls, p = self.weight / np.sum(self.weight))\n",
    "        return throw.tolist()\n",
    "    \n",
    "    \n",
    "    def roll_state(self):\n",
    "        \"\"\"\n",
    "        Description: Returns the most recent roll results as a private dataframe.\n",
    "        \n",
    "        roll_state Parameters: \n",
    "            None\n",
    "        \n",
    "        Raises:\n",
    "            None\n",
    "        \"\"\"\n",
    "        return self._side_wt.copy()\n",
    "\n",
    "class Game: \n",
    "    \"\"\"\n",
    "    The Game class consists of rolling one or more dice (dice objects) multiple times. All dice in this scenario have 6 sides but weights can be changed.\n",
    "    The latest result of the last game played will be kept.\n",
    "    \n",
    "    Methods:\n",
    "    -----------\n",
    "    play_game(self, rolls):\n",
    "        Performs a certain number of dice rolls and stores the results in a dataframe.\n",
    "        \n",
    "    recent_play(self, view = \"wide\"):\n",
    "        Returns a copy of the most recent play in a private dataframe. The dataframe can be viewed in a wide or narrow format.\n",
    "    \n",
    "    roll_state(self):\n",
    "        Returns the latest roll result in a dataframe. This includes the values of the die and its weights.\n",
    "    \n",
    "    \"\"\"\n",
    "    def __init__(self, n_sides =6):\n",
    "        \"\"\"\n",
    "        Description: Initializes a Die object with 6 sides. These are arbitrary number of dice.\n",
    "\n",
    "        __init__ Parameters:\n",
    "            n_sides: integer\n",
    "            \n",
    "        Raises:\n",
    "            TypeError: Checks to see if the number of sides entered is an integer. This is an optional check.\n",
    "        \"\"\"   \n",
    "        if not isinstance(n_sides, int):\n",
    "            raise TypeError(\"The value entered is not an integer.\")\n",
    "            \n",
    "        self.die = Die(np.arange(1, n_sides+1), np.ones(n_sides)) #calls Die class and specifies sides\n",
    "        self._side_wt = pd.DataFrame() #initializing pd.dataFrame\n",
    " \n",
    "    def play_game(self, rolls):\n",
    "        \"\"\"\n",
    "        Description: Rolls an unspecified number of dice and returns those values in a private dataframe. The default view of the dataframe is wide but can also be viewed narrow.\n",
    "        \n",
    "        play_game Parameters:\n",
    "            rolls: integer\n",
    "        \n",
    "        Raises:\n",
    "            None\n",
    "        \"\"\"\n",
    "        roll_results = self.die.roll_dice(rolls)\n",
    "        \n",
    "        rr_big = np.array(roll_results).reshape(1,rolls)\n",
    "        \n",
    "        dice_df = pd.DataFrame(rr_big, columns = [f'Roll # {i+1}'\n",
    "                                                        for i in range(rolls)])\n",
    "        \n",
    "        self._side_wt = pd.concat([self._side_wt, dice_df], axis=1)\n",
    "        \n",
    "        return self._side_wt\n",
    "        \n",
    "    \n",
    "    def recent_play(self, view = \"wide\"): #form = wide, defaults to wide view. also shows last play\n",
    "        \"\"\"\n",
    "        Description: Returns the most recent play of rolled dice. The dataframe can be viewed in a wide or narrow form.\n",
    "        \n",
    "        recent_play Parameters:\n",
    "            view: string\n",
    "        \n",
    "        Raises:\n",
    "            ValueError: Any string that is not wide or narrow will raise this error.\n",
    "        \"\"\"\n",
    "        if view == \"wide\":\n",
    "            return self._side_wt\n",
    "        elif view ==\"narrow\":\n",
    "            return self._side_wt.melt(var_name= \"Die\",value_name = \"Side\")\n",
    "        else:\n",
    "            raise ValueError(\"Invalid input. Dataframe must be either wide or narrow\")\n",
    "\n",
    "\n",
    "class Analyzer:\n",
    "    \"\"\"\n",
    "    The Analyzer class takes an Analyzer object which returns the results of a single game and computes various descriptive statistical properties about it.\n",
    "    \n",
    "    Methods:\n",
    "    -----------\n",
    "    jackpot_results(self):\n",
    "        Returns the number of times all dice roll the same number. (ie: three dice land on side 2)\n",
    "        \n",
    "    count_sides_rolled(self):\n",
    "        Returns the number of times each side of the dice is rolled. It then returns the result in a dataframe.\n",
    "    \n",
    "    perm_counter(self):\n",
    "        Computes the number of permutations based on the dice roll results. It will then return the total number of permutations as an integer and also as a dataframe.\n",
    "    \n",
    "    \"\"\"\n",
    "    def __init__(self,game_result):\n",
    "        \"\"\"\n",
    "        Description: Takes a Game object as its parameter and throws a ValueError if it's not.\n",
    "        \n",
    "        __init__ parameters:\n",
    "            game_result: Game object\n",
    "            \n",
    "        Raises:\n",
    "            ValueError: checks to see if the game_result object is part of the Game class. If not, throws error        \n",
    "        \"\"\"\n",
    "\n",
    "        if not isinstance(game_result,Game): #checks to see if game_result is a Game object.\n",
    "            raise ValueError(\"This is not a Game object.\")\n",
    "            \n",
    "        self.game_result = game_result\n",
    "        self.output = self.game_result.play_game(5)\n",
    "        \n",
    "    \n",
    "    def jackpot_results (self): #jackpot method   \n",
    "        \"\"\"\n",
    "        Description: Returns the number of times all dice roll the same number.\n",
    "        \n",
    "        jackpot_results parameters: \n",
    "            None\n",
    "        \n",
    "        Raises:\n",
    "            None\n",
    "        \"\"\"\n",
    "        jpot_check = self.game_result._side_wt.values #checks if the dice rolled results in a jackpot and stores in _side_wt private df\n",
    "        \n",
    "        jpot_ct =0 #jackpot counter\n",
    "        \n",
    "        for i in jpot_check.T:\n",
    "            if len(set(i)) == 1:\n",
    "                jpot_ct+=1\n",
    "        return jpot_ct\n",
    "\n",
    "    def count_sides_rolled(self):\n",
    "        \"\"\"\n",
    "        Description: Counts the number of times each side of a die is rolled\n",
    "        \n",
    "        count_sides_rolled parameters: \n",
    "            None\n",
    "        \n",
    "        Raises:\n",
    "            None\n",
    "        \"\"\"\n",
    "        if self.output is not None: #from Analyzer init\n",
    "            \n",
    "            throw_results = {i:0 for i in range(1,7)} #simulating dice roll\n",
    "            \n",
    "            for i in self.output.columns:\n",
    "                roll_sides = self.output[i].values #creates a column and stores value in column\n",
    "                \n",
    "            for j in roll_sides:\n",
    "                if j in throw_results:\n",
    "                    throw_results[j] +=1\n",
    "                \n",
    "            throw_results_df = pd.Series(throw_results).sort_index()\n",
    "            return throw_results_df\n",
    "\n",
    "    def perm_counter(self):\n",
    "        \"\"\"\n",
    "        Description: Returns the total number of permutations based on the rolls completed. Will also return a dataframe.\n",
    "        \n",
    "        perm_counter parameters: \n",
    "            None\n",
    "        \n",
    "        Raises:\n",
    "            None\n",
    "        \"\"\"\n",
    "        throw_results = self.output.values.flatten() #creates 1D array to then convert to a df; NumPy documentation\n",
    "\n",
    "        perm_list = np.array(list(np.random.permutation(throw_results) for i in range(len(throw_results)))) #stores all permutations\n",
    "        \n",
    "        final_perm_df = pd.DataFrame(perm_list, [f'Roll # {i+1}'\n",
    "                                                        for i in range(len(throw_results))]) \n",
    "        \n",
    "        perm_total = len(final_perm_df)\n",
    "        return perm_total, final_perm_df #returns both df and count of permutations\n",
    "               "
   ]
  },
  {
   "cell_type": "markdown",
   "id": "6377727a-8f0a-491e-9f1c-d9dc225edd35",
   "metadata": {},
   "source": [
    "## Unitest Module (2)\n",
    "\n",
    "Paste a copy of your test module below.\n",
    "\n",
    "NOTE: Paste as text, not as code. Use triple backticks to wrap your code blocks.\n",
    "\n",
    "- All methods have at least one test method (1).\n",
    "- Each method employs one of Unittest's Assert methods (1)."
   ]
  },
  {
   "cell_type": "markdown",
   "id": "287f881b-26da-4ae3-8e09-e2c11a3058f3",
   "metadata": {
    "tags": []
   },
   "source": [
    "import pandas as pd \\\n",
    "import montecarlo\\\n",
    "from montecarlo import Die\\\n",
    "from montecarlo import Game\\\n",
    "from montecarlo import Analyzer\\\n",
    "import unittest\\\n",
    "import numpy as np\\\n",
    "\n",
    "class MonteCarloTesting(unittest.TestCase):\n",
    "    def test_init_function(self):\n",
    "        n_sides = np.array([1,2,3,4,5,6])\n",
    "        weight = np.array([1,1,1,2,3,1])\n",
    "        \n",
    "        die = Die(n_sides,weight)\n",
    "        \n",
    "        np.testing.assert_array_equal(die.n_sides, n_sides)\n",
    "        np.testing.assert_array_equal(die.weight, weight)\n",
    "\n",
    "        \n",
    "    def test_weight_change(self):\n",
    "        n_sides = np.array([1,2,3,4,5,6])\n",
    "        weight = np.array([1,1,1,2,3,1])\n",
    "        \n",
    "        self.die = Die(n_sides, weight)\n",
    "        \n",
    "        self.die.weight_change(5,3)\n",
    "        self.assertEqual(self.die.weight[2],5)\n",
    "        self.assertEqual(self.die._side_wt.loc[self.die._side_wt['Sides']==3, 'Die'].values[0],5)\n",
    "\n",
    "    def test_roll_dice(self):\n",
    "        \n",
    "        n_sides = np.array([1,2,3,4,5,6])\n",
    "        weight = np.array([1,1,1,2,3,1])\n",
    "        \n",
    "        self.die = Die(n_sides, weight)\n",
    "        result = self.die.roll_dice(5)\n",
    "        \n",
    "        \n",
    "        \n",
    "        for r in result:\n",
    "            self.assertIn(r, self.die.n_sides)\n",
    "            \n",
    "        self.die.weight_change(5,3) #increases weight of 3 5x\n",
    "\n",
    "        result = self.die.roll_dice(5)\n",
    "        roll1 = result.count(3)\n",
    "        roll2 = result.count(2)\n",
    "        \n",
    "          \n",
    "    def test_roll_state(self):\n",
    "        n_sides = np.array([1,2,3,4,5,6])\n",
    "        weight = np.array([1,1,1,2,3,1])\n",
    "       \n",
    "        self.die = Die(n_sides, weight)\n",
    "        \n",
    "        first = self.die.roll_state()\n",
    "        \n",
    "        self.assertTrue(isinstance(first, pd.DataFrame))\n",
    "        self.assertEqual(first.shape, (6,2))\n",
    "        self.assertTrue('Sides' in first.columns)\n",
    "        self.assertTrue('Die' in first.columns)\n",
    "        \n",
    "        self.die.weight_change(5,2) #modifying weight after initializing\n",
    "        \n",
    "        last = self.die.roll_state()\n",
    "        #checking die state\n",
    "        self.assertEqual(last.loc[last['Sides']==2, 'Die'].values[0],5)\n",
    "        \n",
    "\n",
    "        \n",
    "    def test_game_init(self):\n",
    "       # n_sides = np.array([1,2,3,4,5,6])\n",
    "       ## weight = np.array([1,1,1,2,3,1])\n",
    "        #self.die = Die(n_sides, weight)\n",
    "        play = Game(6) #standard 6 sided die\n",
    "        \n",
    "        self.assertIsInstance(play.die, Die)\n",
    "        \n",
    "        play_init = isinstance(play._side_wt, pd.DataFrame)\n",
    "        \n",
    "        self.assertTrue(play_init)\n",
    "        \n",
    "    def test_play_game(self):\n",
    "        play = Game(6)\n",
    "        play_df = play.play_game(10) #10 rolls\n",
    "        self.assertIsInstance(play_df, pd.DataFrame)\n",
    "        \n",
    "        self.assertIsInstance(play._side_wt, pd.DataFrame)\n",
    "        \n",
    "        \n",
    "        \n",
    "    def test_recent_play(self):\n",
    "        play = Game(6)\n",
    "        play_df = play.play_game(10) #10 rolls\n",
    "        play_wide_df = play.recent_play(view = 'wide')\n",
    "        self.assertIsInstance(play_wide_df, pd.DataFrame)\n",
    "        self.assertEqual(play_wide_df.shape[1],10) #checking to see if the dataframe shows as wide for 10 rolls\n",
    "        \n",
    "        play_narrow_df = play.recent_play(view='narrow')\n",
    "        self.assertIsInstance(play_narrow_df, pd.DataFrame)\n",
    "        self.assertTrue(play_narrow_df.shape[1] ==2) #checking for narrow view where there are only 2 columns in index 1\n",
    "    \n",
    "    \n",
    "    def test_jackpot_results(self):\n",
    "        play = Game(6)\n",
    "        play_results = Analyzer(play)\n",
    "        \n",
    "        jpot_ct = play_results.jackpot_results()\n",
    "        analyzer_ct = self.assertIsInstance(jpot_ct, int)\n",
    "        \n",
    "    def test_count_sides_rolled(self):\n",
    "        play = Game(6)\n",
    "        play_results = Analyzer(play)\n",
    "        \n",
    "        roll_results = play_results.count_sides_rolled()\n",
    "        \n",
    "    \n",
    "\n",
    "        \n",
    "\n",
    "    \n",
    "        \n",
    "        \n",
    "        \n",
    "        \n",
    "        \n",
    "if __name__ == '__main__':\\\n",
    "    unittest.main(verbosity=3)\n"
   ]
  },
  {
   "cell_type": "markdown",
   "id": "3e058d03-29bc-408f-b36d-0605b4f4b8c0",
   "metadata": {
    "tags": []
   },
   "source": [
    "## Unittest Results (3)\n",
    "\n",
    "Put a copy of the results of running your tests from the command line here.\n",
    "\n",
    "Again, paste as text using triple backticks.\n",
    "\n",
    "- All 12 specified methods return OK (3; .25 each)."
   ]
  },
  {
   "cell_type": "code",
   "execution_count": 3,
   "id": "ddb985cc-a3e1-4f6b-8676-ee6f0580100f",
   "metadata": {
    "tags": []
   },
   "outputs": [
    {
     "data": {
      "text/plain": [
       "'\\nbash-4.4$python -m unittest montecarlounittest.py\\n.........\\n----------------------------------------------------------------------\\nRan 10 tests in 0.021s\\n\\nOK\\n'"
      ]
     },
     "execution_count": 3,
     "metadata": {},
     "output_type": "execute_result"
    }
   ],
   "source": [
    "# A text block with the output of a successful test.\n",
    "\"\"\"\n",
    "bash-4.4$python -m unittest montecarlounittest.py\n",
    ".........\n",
    "----------------------------------------------------------------------\n",
    "Ran 10 tests in 0.021s\n",
    "\n",
    "OK\n",
    "\"\"\"\n"
   ]
  },
  {
   "cell_type": "markdown",
   "id": "d9ffe8c5-eb2f-4ad1-af76-a46550e4c7ac",
   "metadata": {},
   "source": [
    "## Import (1)\n",
    "\n",
    "Import your module here. This import should refer to the code in your package directory.\n",
    "\n",
    "- Module successuflly imported (1)."
   ]
  },
  {
   "cell_type": "code",
   "execution_count": 72,
   "id": "a05dffb3-e6d6-4f78-9df4-5abd0cf74ca9",
   "metadata": {
    "tags": []
   },
   "outputs": [],
   "source": [
    "# e.g. import named as demo \n",
    "import demo"
   ]
  },
  {
   "cell_type": "markdown",
   "id": "f30c4842-65b1-4556-98b6-3fe1a07e1371",
   "metadata": {},
   "source": [
    "## Help Docs (4)\n",
    "\n",
    "Show your docstring documentation by applying `help()` to your imported module.\n",
    "\n",
    "- All methods have a docstring (3; .25 each).\n",
    "- All classes have a docstring (1; .33 each)."
   ]
  },
  {
   "cell_type": "code",
   "execution_count": 30,
   "id": "bf4fbf1f-9885-471c-a0a6-e9ca90e160de",
   "metadata": {
    "tags": []
   },
   "outputs": [
    {
     "name": "stdout",
     "output_type": "stream",
     "text": [
      "Help on class Die in module __main__:\n",
      "\n",
      "class Die(builtins.object)\n",
      " |  Die(n_sides: numpy.ndarray, weight: numpy.ndarray)\n",
      " |  \n",
      " |  The Die class takes a NumPy array to act as a face of the object. In this case, it will be either a 6-sided die or a coin which has 2 sides.\n",
      " |  The data type of the array may be either strings or numbers with all values being distinct from each other. By default, a die or a coin will have the same weight for each side.\n",
      " |  \n",
      " |  Methods:\n",
      " |  -----------\n",
      " |  weight_change(self, weight, die_face):\n",
      " |      Changes the weight of a specific side or sides of the die.\n",
      " |  \n",
      " |  roll_dice(self, n_rolls=1):\n",
      " |      Lets the user roll the die an arbitrary number of times. The default number of rolls is 1.\n",
      " |  \n",
      " |  roll_state(self):\n",
      " |      Returns the latest roll result in a dataframe. This includes the values of the die and its weights.\n",
      " |  \n",
      " |  Methods defined here:\n",
      " |  \n",
      " |  __init__(self, n_sides: numpy.ndarray, weight: numpy.ndarray)\n",
      " |      Description: Initializes the Die object with sides and weights. Default weight is 1 and sides is 6.\n",
      " |      \n",
      " |      __init__ Parameters: \n",
      " |          n_sides: NumPy array\n",
      " |          weight: NumPy array\n",
      " |          \n",
      " |      Raises:\n",
      " |      \n",
      " |      TypeError: If n_sides is not a NumPy array.\n",
      " |      \n",
      " |      ValueError: If the values assigned to n_sides are not unique.\n",
      " |  \n",
      " |  roll_dice(self, n_rolls=1)\n",
      " |      Description: Rolls the dice a specified number of times. The default number of rolls is 1.\n",
      " |      \n",
      " |      roll_dice Parameters: \n",
      " |          n_rolls: integer\n",
      " |      \n",
      " |          \n",
      " |      Raises:\n",
      " |      \n",
      " |      None\n",
      " |  \n",
      " |  roll_state(self)\n",
      " |      Description: Returns the most recent roll results as a private dataframe.\n",
      " |      \n",
      " |      roll_state Parameters: \n",
      " |          None\n",
      " |      \n",
      " |      Raises:\n",
      " |          None\n",
      " |  \n",
      " |  weight_change(self, weight, die_face)\n",
      " |      Description: Lets the user change the weight of a dice face. Default weight is 1.\n",
      " |      \n",
      " |      weight_change Parameters: \n",
      " |          weight: integer\n",
      " |          die_face: integer\n",
      " |          \n",
      " |      Raises:\n",
      " |      \n",
      " |      TypeError: If weight is not of the correct data type.\n",
      " |      \n",
      " |      IndexError: If the chosen dice face is not in the NumPy array (ie: choosing 7 when there are only 6 sides).\n",
      " |  \n",
      " |  ----------------------------------------------------------------------\n",
      " |  Data descriptors defined here:\n",
      " |  \n",
      " |  __dict__\n",
      " |      dictionary for instance variables (if defined)\n",
      " |  \n",
      " |  __weakref__\n",
      " |      list of weak references to the object (if defined)\n",
      "\n"
     ]
    }
   ],
   "source": [
    "# help(montecarlo)\n",
    "help(Die) #docstring for Die class and its methods"
   ]
  },
  {
   "cell_type": "code",
   "execution_count": 29,
   "id": "08485efd-f137-457d-aa68-3735c221f6ac",
   "metadata": {
    "tags": []
   },
   "outputs": [
    {
     "name": "stdout",
     "output_type": "stream",
     "text": [
      "Help on class Game in module __main__:\n",
      "\n",
      "class Game(builtins.object)\n",
      " |  Game(n_sides=6)\n",
      " |  \n",
      " |  The Game class consists of rolling one or more dice (dice objects) multiple times. All dice in this scenario have 6 sides but weights can be changed.\n",
      " |  The latest result of the last game played will be kept.\n",
      " |  \n",
      " |  Methods:\n",
      " |  -----------\n",
      " |  play_game(self, rolls):\n",
      " |      Performs a certain number of dice rolls and stores the results in a dataframe.\n",
      " |      \n",
      " |  recent_play(self, view = \"wide\"):\n",
      " |      Returns a copy of the most recent play in a private dataframe. The dataframe can be viewed in a wide or narrow format.\n",
      " |  \n",
      " |  roll_state(self):\n",
      " |      Returns the latest roll result in a dataframe. This includes the values of the die and its weights.\n",
      " |  \n",
      " |  Methods defined here:\n",
      " |  \n",
      " |  __init__(self, n_sides=6)\n",
      " |      Description: Initializes a Die object with 6 sides. These are arbitrary number of dice.\n",
      " |      \n",
      " |      __init__ Parameters:\n",
      " |          n_sides: integer\n",
      " |          \n",
      " |      Raises:\n",
      " |          TypeError: Checks to see if the number of sides entered is an integer. This is an optional check.\n",
      " |  \n",
      " |  play_game(self, rolls)\n",
      " |      Description: Rolls an unspecified number of dice and returns those values in a private dataframe. The default view of the dataframe is wide but can also be viewed narrow.\n",
      " |      \n",
      " |      play_game Parameters:\n",
      " |          rolls: integer\n",
      " |      \n",
      " |      Raises:\n",
      " |          None\n",
      " |  \n",
      " |  recent_play(self, view='wide')\n",
      " |      Description: Returns the most recent play of rolled dice. The dataframe can be viewed in a wide or narrow form.\n",
      " |      \n",
      " |      recent_play Parameters:\n",
      " |          view: string\n",
      " |      \n",
      " |      Raises:\n",
      " |          ValueError: Any string that is not wide or narrow will raise this error.\n",
      " |  \n",
      " |  ----------------------------------------------------------------------\n",
      " |  Data descriptors defined here:\n",
      " |  \n",
      " |  __dict__\n",
      " |      dictionary for instance variables (if defined)\n",
      " |  \n",
      " |  __weakref__\n",
      " |      list of weak references to the object (if defined)\n",
      "\n"
     ]
    }
   ],
   "source": [
    "help(Game) #docstring for Game class and its methods"
   ]
  },
  {
   "cell_type": "code",
   "execution_count": 28,
   "id": "a3b9cc19-e460-4b50-865a-646cf8eae06d",
   "metadata": {
    "tags": []
   },
   "outputs": [
    {
     "name": "stdout",
     "output_type": "stream",
     "text": [
      "Help on class Analyzer in module __main__:\n",
      "\n",
      "class Analyzer(builtins.object)\n",
      " |  Analyzer(game_result)\n",
      " |  \n",
      " |  The Analyzer class takes an Analyzer object which returns the results of a single game and computes various descriptive statistical properties about it.\n",
      " |  \n",
      " |  Methods:\n",
      " |  -----------\n",
      " |  jackpot_results(self):\n",
      " |      Returns the number of times all dice roll the same number. (ie: three dice land on side 2)\n",
      " |      \n",
      " |  count_sides_rolled(self):\n",
      " |      Returns the number of times each side of the dice is rolled. It then returns the result in a dataframe.\n",
      " |  \n",
      " |  perm_counter(self):\n",
      " |      Computes the number of permutations based on the dice roll results. It will then return the total number of permutations as an integer and also as a dataframe.\n",
      " |  \n",
      " |  Methods defined here:\n",
      " |  \n",
      " |  __init__(self, game_result)\n",
      " |      Description: Takes a Game object as its parameter and throws a ValueError if it's not.\n",
      " |      \n",
      " |      __init__ parameters:\n",
      " |          game_result: Game object\n",
      " |          \n",
      " |      Raises:\n",
      " |          ValueError: checks to see if the game_result object is part of the Game class. If not, throws error\n",
      " |  \n",
      " |  count_sides_rolled(self)\n",
      " |      Description: Counts the number of times each side of a die is rolled\n",
      " |      \n",
      " |      count_sides_rolled parameters: \n",
      " |          None\n",
      " |      \n",
      " |      Raises:\n",
      " |          None\n",
      " |  \n",
      " |  jackpot_results(self)\n",
      " |      Description: Returns the number of times all dice roll the same number.\n",
      " |      \n",
      " |      jackpot_results parameters: \n",
      " |          None\n",
      " |      \n",
      " |      Raises:\n",
      " |          None\n",
      " |  \n",
      " |  perm_counter(self)\n",
      " |      Description: Returns the total number of permutations based on the rolls completed. Will also return a dataframe.\n",
      " |      \n",
      " |      perm_counter parameters: \n",
      " |          None\n",
      " |      \n",
      " |      Raises:\n",
      " |          None\n",
      " |  \n",
      " |  ----------------------------------------------------------------------\n",
      " |  Data descriptors defined here:\n",
      " |  \n",
      " |  __dict__\n",
      " |      dictionary for instance variables (if defined)\n",
      " |  \n",
      " |  __weakref__\n",
      " |      list of weak references to the object (if defined)\n",
      "\n"
     ]
    }
   ],
   "source": [
    "help(Analyzer) #docstring for Analyzer class and its methods"
   ]
  },
  {
   "cell_type": "markdown",
   "id": "a9defa84-b395-4966-bd1c-5c6c2bb7ed68",
   "metadata": {},
   "source": [
    "## `README.md` File (3)\n",
    "\n",
    "Provide link to the README.md file of your project's repo.\n",
    "\n",
    "- Metadata section or info present (1).\n",
    "- Synopsis section showing how each class is called (1). (All must be included.)\n",
    "- API section listing all classes and methods (1). (All must be included.)"
   ]
  },
  {
   "cell_type": "markdown",
   "id": "ee090b33-d593-48a0-bf35-e739cea0942c",
   "metadata": {},
   "source": [
    "URL:https://github.com/nkoh1/DS5100-Final-project/blob/main/README.md"
   ]
  },
  {
   "cell_type": "markdown",
   "id": "108604c8-8827-42ef-ab59-6b25428fc0ca",
   "metadata": {},
   "source": [
    "## Successful installation (2)\n",
    "\n",
    "Put a screenshot or paste a copy of a terminal session where you successfully install your module with pip.\n",
    "\n",
    "If pasting text, use a preformatted text block to show the results.\n",
    "\n",
    "- Installed with `pip` (1).\n",
    "- Successfully installed message appears (1)."
   ]
  },
  {
   "attachments": {
    "29a5cb4f-58d1-4df6-a2a4-ad0f155bb0cf.png": {
     "image/png": "[encoded data removed]"
    }
   },
   "cell_type": "markdown",
   "id": "63ecef53-c3d6-4bf0-9dbf-e653a16d3f5f",
   "metadata": {},
   "source": [
    "# Pasted code\n",
    "![image.png](attachment:29a5cb4f-58d1-4df6-a2a4-ad0f155bb0cf.png)"
   ]
  },
  {
   "cell_type": "code",
   "execution_count": 94,
   "id": "3e773d5c-debb-40b9-97b4-24a699dc1308",
   "metadata": {
    "tags": []
   },
   "outputs": [
    {
     "name": "stdout",
     "output_type": "stream",
     "text": [
      "Defaulting to user installation because normal site-packages is not writeable\n",
      "Processing /sfs/gpfs/tardis/home/unu3vx/Documents/MSDS/DS5100/DS5100-unu3vx/lessons/M11/testfolder\n",
      "  Preparing metadata (setup.py) ... \u001b[?25ldone\n",
      "\u001b[?25hBuilding wheels for collected packages: Montecarlo-package\n",
      "  Building wheel for Montecarlo-package (setup.py) ... \u001b[?25ldone\n",
      "\u001b[?25h  Created wheel for Montecarlo-package: filename=Montecarlo_package-0.1-py3-none-any.whl size=5560 sha256=3068554fb2c305a1ba200c68df84bf1a5623ac921cffdb9f5e2922f8be71ecbb\n",
      "  Stored in directory: /tmp/pip-ephem-wheel-cache-c1uyarz8/wheels/42/54/09/f60b427957d8ce1e9fa42df91429a098fbb5b8b7698fa9823c\n",
      "Successfully built Montecarlo-package\n",
      "Installing collected packages: Montecarlo-package\n",
      "  Attempting uninstall: Montecarlo-package\n",
      "    Found existing installation: Montecarlo-package 0.1\n",
      "    Uninstalling Montecarlo-package-0.1:\n",
      "      Successfully uninstalled Montecarlo-package-0.1\n",
      "Successfully installed Montecarlo-package-0.1\n",
      "Note: you may need to restart the kernel to use updated packages.\n"
     ]
    }
   ],
   "source": [
    "pip install ."
   ]
  },
  {
   "cell_type": "markdown",
   "id": "7c44695d-d1b3-4edf-9f94-e64d7446f199",
   "metadata": {},
   "source": [
    "# Scenarios\n",
    "\n",
    "Use code blocks to perform the tasks for each scenario.\n",
    "\n",
    "Be sure the outputs are visible before submitting."
   ]
  },
  {
   "cell_type": "markdown",
   "id": "e2479eae-6fc9-44cd-b8d7-9b22cb501f2a",
   "metadata": {
    "tags": []
   },
   "source": [
    "## Scenario 1: A 2-headed Coin (9)\n",
    "\n",
    "Task 1. Create a fair coin (with faces $H$ and $T$) and one unfair coin in which one of the faces has a weight of $5$ and the others $1$.\n",
    "\n",
    "- Fair coin created (1).\n",
    "- Unfair coin created with weight as specified (1)."
   ]
  },
  {
   "cell_type": "code",
   "execution_count": 67,
   "id": "55ce498e-c75f-4425-9e3e-b635bd6cd9e1",
   "metadata": {
    "tags": []
   },
   "outputs": [],
   "source": [
    "#under Die class\n",
    "import demo\n",
    "\n",
    "sides=np.array(['H','T'])\n",
    "weight = np.array([1,1])\n",
    "weight2 = np.array([1,5]) #tails has a weight of 5\n",
    "\n",
    "fair_coin = Die(sides,weight)\n",
    "unfair_coin = Die(sides, weight2) #created both coins\n"
   ]
  },
  {
   "cell_type": "markdown",
   "id": "02b272ab-99da-4b6e-ac2a-555b73e09c07",
   "metadata": {},
   "source": [
    "Task 2. Play a game of $1000$ flips with two fair dice.\n",
    "\n",
    "- Play method called correclty and without error (1)."
   ]
  },
  {
   "cell_type": "code",
   "execution_count": 86,
   "id": "65c92601-d32d-4326-b215-74953aee27f2",
   "metadata": {
    "tags": []
   },
   "outputs": [],
   "source": [
    "#under Die class\n",
    "fair_toss = fair_coin.roll_dice(1000)\n",
    "fair_toss2 = fair_coin.roll_dice(1000)"
   ]
  },
  {
   "cell_type": "markdown",
   "id": "7d9c3dc8-22c1-4cae-81fb-d68d774a05d1",
   "metadata": {},
   "source": [
    "Task 3. Play another game (using a new Game object) of $1000$ flips, this time using two unfair dice and one fair die. For the second unfair die, you can use the same die object twice in the list of dice you pass to the Game object.\n",
    "\n",
    "- New game object created (1).\n",
    "- Play method called correclty and without error (1)."
   ]
  },
  {
   "cell_type": "code",
   "execution_count": 90,
   "id": "d4098bed-1eb2-4084-8d5e-9fda07c3be43",
   "metadata": {
    "tags": []
   },
   "outputs": [],
   "source": [
    "#note that 1 is Heads, 2 is Tails\n",
    "fair_coin_game = Game(n_sides=2)\n",
    "unfair_coin_game = Game(n_sides=2)\n",
    "unfair_coin_game2 = Game(n_sides =2)\n",
    "\n",
    "\n",
    "fair_game_result = fair_coin_game.play_game(1000)\n",
    "unfair_game_result = unfair_coin_game.play_game(1000)\n",
    "unfair_game_result2 = unfair_coin_game2.play_game(1000)\n",
    "#unfair_game_result"
   ]
  },
  {
   "cell_type": "markdown",
   "id": "f690ebfc-fe71-4eb2-976d-7ac80ca6c23f",
   "metadata": {},
   "source": [
    "Task 4. For each game, use an Analyzer object to determine the raw frequency of jackpots — i.e. getting either all $H$s or all $T$s.\n",
    "\n",
    "- Analyzer objecs instantiated for both games (1).\n",
    "- Raw frequencies reported for both (1)."
   ]
  },
  {
   "cell_type": "code",
   "execution_count": 81,
   "id": "b26b8b7e-3be7-4476-a9a4-37d97536729e",
   "metadata": {
    "tags": []
   },
   "outputs": [],
   "source": [
    "#asks for two games: 1 fair, 1 unfair\n",
    "analyzer_fair = Analyzer(fair_coin_game)\n",
    "analyzer_unfair_1= Analyzer(unfair_coin_game)\n",
    "\n",
    "fair_jpot_freq = analyzer_fair.jackpot_results()\n",
    "unfair_jpot_freq = analyzer_unfair_1.jackpot_results()"
   ]
  },
  {
   "cell_type": "markdown",
   "id": "b73d233c-445e-40cd-8858-0c5e1f097105",
   "metadata": {},
   "source": [
    "Task 5. For each analyzer, compute relative frequency as the number of jackpots over the total number of rolls.\n",
    "\n",
    "- Both relative frequencies computed (1)."
   ]
  },
  {
   "cell_type": "code",
   "execution_count": 89,
   "id": "9a96b31b-1b9d-496e-be3e-4bf83c45ec3a",
   "metadata": {
    "tags": []
   },
   "outputs": [
    {
     "name": "stdout",
     "output_type": "stream",
     "text": [
      "1015 1015\n"
     ]
    }
   ],
   "source": [
    "print(fair_jpot_freq,unfair_jpot_freq)"
   ]
  },
  {
   "cell_type": "markdown",
   "id": "a6e1e734-7f5c-4721-8ba4-2f3a424cf984",
   "metadata": {},
   "source": [
    "Task 6. Show your results, comparing the two relative frequencies, in a simple bar chart.\n",
    "\n",
    "- Bar chart plotted and correct (1)."
   ]
  },
  {
   "cell_type": "code",
   "execution_count": 93,
   "id": "473fa67c-aa53-4aa3-a0b7-e8772b3f6ed3",
   "metadata": {},
   "outputs": [
    {
     "data": {
      "image/png": "[encoded data removed]",
      "text/plain": [
       "<Figure size 640x480 with 1 Axes>"
      ]
     },
     "metadata": {},
     "output_type": "display_data"
    }
   ],
   "source": [
    "import matplotlib.pyplot as plt\n",
    "import numpy as np\n",
    "\n",
    "games = ['Fair Coin','Unfair Coin']\n",
    "jackpot=[fair_jpot_freq,unfair_jpot_freq]\n",
    "\n",
    "plt.bar(games, jackpot)\n",
    "\n",
    "plt.xlabel(\"Coin Type\")\n",
    "plt.ylabel(\"Jackpots\")\n",
    "plt.title(\"Jackpot Frequency for each Coin\")\n",
    "plt.show()"
   ]
  },
  {
   "cell_type": "markdown",
   "id": "725cfa5b-e4b7-47c9-86aa-8d9e1fe6c8c7",
   "metadata": {},
   "source": [
    "## Scenario 2: A 6-sided Die (9)\n",
    "\n",
    "Task 1. Create three dice, each with six sides having the faces 1 through 6.\n",
    "\n",
    "- Three die objects created (1)."
   ]
  },
  {
   "cell_type": "code",
   "execution_count": 95,
   "id": "6a8bc611-325a-4e05-88d5-980e0a2cf7c5",
   "metadata": {
    "tags": []
   },
   "outputs": [],
   "source": [
    "n_sides = np.array([1,2,3,4,5,6])\n",
    "weight = np.array([1,1,1,1,1,1])\n",
    "d1 = Die(n_sides, weight)\n",
    "d2 = Die(n_sides, weight)\n",
    "d3 = Die(n_sides, weight)\n"
   ]
  },
  {
   "cell_type": "markdown",
   "id": "2ed3ad26-fbe9-43bd-9ad7-f683a4191d12",
   "metadata": {},
   "source": [
    "Task 2. Convert one of the dice to an unfair one by weighting the face $6$ five times more than the other weights (i.e. it has weight of 5 and the others a weight of 1 each).\n",
    "\n",
    "- Unfair die created with proper call to weight change method (1)."
   ]
  },
  {
   "cell_type": "code",
   "execution_count": 131,
   "id": "e33dd18f-7f90-456d-a680-61c08a328e21",
   "metadata": {
    "tags": []
   },
   "outputs": [],
   "source": [
    "d2 = Die(n_sides, weight=np.array([1,1,1,1,1,5])) #unfair die"
   ]
  },
  {
   "cell_type": "markdown",
   "id": "7f6c062a-4c5b-45b9-96b8-76a0354c7e47",
   "metadata": {},
   "source": [
    "Task 3. Convert another of the dice to be unfair by weighting the face $1$ five times more than the others.\n",
    "\n",
    "- Unfair die created with proper call to weight change method (1)."
   ]
  },
  {
   "cell_type": "code",
   "execution_count": 132,
   "id": "01133a4e-6b06-4246-8d90-8e6d6995be51",
   "metadata": {},
   "outputs": [],
   "source": [
    "d1 = Die(n_sides, weight = np.array([5,1,1,1,1,1])) #unfair die"
   ]
  },
  {
   "cell_type": "markdown",
   "id": "f0ed31cb-0a3c-4eb2-b85e-6ed6b2eb6e58",
   "metadata": {},
   "source": [
    "Task 4. Play a game of $10000$ rolls with $5$ fair dice.\n",
    "\n",
    "- Game class properly instantiated (1). \n",
    "- Play method called properly (1)."
   ]
  },
  {
   "cell_type": "code",
   "execution_count": 101,
   "id": "e92395a4-9ed8-4cb0-8c85-38768a784ffc",
   "metadata": {
    "tags": []
   },
   "outputs": [],
   "source": [
    "d3 = Game(n_sides=6)\n",
    "\n",
    "d3_result = d3.play_game(10000)"
   ]
  },
  {
   "cell_type": "markdown",
   "id": "7814b402-46a4-40e5-8141-20e05c3e646b",
   "metadata": {},
   "source": [
    "Task 5. Play another game of $10000$ rolls, this time with $2$ unfair dice, one as defined in steps #2 and #3 respectively, and $3$ fair dice.\n",
    "\n",
    "- Game class properly instantiated (1). \n",
    "- Play method called properly (1)."
   ]
  },
  {
   "cell_type": "code",
   "execution_count": 114,
   "id": "7cd58fba-b2a5-4d5d-bc6d-2a7a68d18c4f",
   "metadata": {
    "tags": []
   },
   "outputs": [],
   "source": [
    "d1 = Game(n_sides =6)\n",
    "\n",
    "d1_result = d1.play_game(10000)"
   ]
  },
  {
   "cell_type": "code",
   "execution_count": 103,
   "id": "7c0cfde7-1b75-41cd-b5bf-39f57c8b632d",
   "metadata": {
    "tags": []
   },
   "outputs": [],
   "source": [
    "d2 = Game(n_sides =6)\n",
    "d2_result = d2.play_game(10000)"
   ]
  },
  {
   "cell_type": "markdown",
   "id": "7b6cd372-2bb8-4df8-ade1-8f48bc300955",
   "metadata": {},
   "source": [
    "Task 6. For each game, use an Analyzer object to determine the relative frequency of jackpots and show your results, comparing the two relative frequencies, in a simple bar chart.\n",
    "\n",
    "- Jackpot methods called (1).\n",
    "- Graph produced (1)."
   ]
  },
  {
   "cell_type": "code",
   "execution_count": 117,
   "id": "bbdcf695-8937-406e-9b53-aa0b9ee3c59a",
   "metadata": {},
   "outputs": [
    {
     "data": {
      "image/png": "[encoded data removed]",
      "text/plain": [
       "<Figure size 640x480 with 1 Axes>"
      ]
     },
     "metadata": {},
     "output_type": "display_data"
    }
   ],
   "source": [
    "die_fair_analyzer = Analyzer(d3)\n",
    "die_unfair_analyzer = Analyzer(d1)\n",
    "\n",
    "jackpot_fair = die_fair_analyzer.jackpot_results()\n",
    "jackpot_fair2 = die_unfair_analyzer.jackpot_results()\n",
    "\n",
    "die = ['Die 1', 'Die 2']\n",
    "jackpots = [jackpot_fair,jackpot_fair2]\n",
    "\n",
    "plt.bar(die, jackpots)\n",
    "plt.xlabel('Dice')\n",
    "plt.ylabel('Jackpot Counter')\n",
    "plt.title('Total jackpots')\n",
    "plt.show()"
   ]
  },
  {
   "cell_type": "markdown",
   "id": "9f04e9be-8fcf-4ea4-a391-6614608285f8",
   "metadata": {},
   "source": [
    "## Scenario 3: Letters of the Alphabet (7)\n",
    "\n",
    "Task 1. Create a \"die\" of letters from $A$ to $Z$ with weights based on their frequency of usage as found in the data file `english_letters.txt`. Use the frequencies (i.e. raw counts) as weights.\n",
    "\n",
    "- Die correctly instantiated with source file data (1).\n",
    "- Weights properly applied using weight setting method (1)."
   ]
  },
  {
   "cell_type": "code",
   "execution_count": 130,
   "id": "b0ceb771-3cdf-4d8f-8c2c-020806bbb909",
   "metadata": {
    "tags": []
   },
   "outputs": [],
   "source": [
    "file = np.loadtxt(\"english_letters.txt\", dtype='str') "
   ]
  },
  {
   "cell_type": "code",
   "execution_count": null,
   "id": "6c404342-10d5-4948-bcfc-bf48e2d9f302",
   "metadata": {
    "tags": []
   },
   "outputs": [],
   "source": []
  },
  {
   "cell_type": "markdown",
   "id": "88e2e14a-6223-470a-a2c8-bca1120d7a5b",
   "metadata": {},
   "source": [
    "Task 2. Play a game involving $4$ of these dice with $1000$ rolls.\n",
    "\n",
    "- Game play method properly called (1)."
   ]
  },
  {
   "cell_type": "code",
   "execution_count": null,
   "id": "2ae087cc-936d-4f1e-bddb-a7c179d139e0",
   "metadata": {},
   "outputs": [],
   "source": []
  },
  {
   "cell_type": "markdown",
   "id": "3b9ff800-bf1f-4f66-9d7f-ff57a648e9f0",
   "metadata": {},
   "source": [
    "Task 3. Determine how many permutations in your results are actual English words, based on the vocabulary found in `scrabble_words.txt`.\n",
    "\n",
    "- Use permutation method (1).\n",
    "- Get count as difference between permutations and vocabulary (1)."
   ]
  },
  {
   "cell_type": "code",
   "execution_count": null,
   "id": "ed1c7fa0-cfa3-4cf4-9fd0-9f84b86b0f64",
   "metadata": {
    "tags": []
   },
   "outputs": [],
   "source": []
  },
  {
   "cell_type": "markdown",
   "id": "fcf068cf-381a-4b3e-ac3a-0510eb4dbdb0",
   "metadata": {},
   "source": [
    "Task 4. Repeat steps #2 and #3, this time with $5$ dice. How many actual words does this produce? Which produces more?\n",
    "\n",
    "- Successfully repreats steps (1).\n",
    "- Identifies parameter with most found words (1)."
   ]
  }
 ],
 "metadata": {
  "kernelspec": {
   "display_name": "Python 3 (ipykernel)",
   "language": "python",
   "name": "python3"
  },
  "language_info": {
   "codemirror_mode": {
    "name": "ipython",
    "version": 3
   },
   "file_extension": ".py",
   "mimetype": "text/x-python",
   "name": "python",
   "nbconvert_exporter": "python",
   "pygments_lexer": "ipython3",
   "version": "3.11.4"
  },
  "toc-autonumbering": true,
  "widgets": {
   "application/vnd.jupyter.widget-state+json": {
    "state": {},
    "version_major": 2,
    "version_minor": 0
   }
  }
 },
 "nbformat": 4,
 "nbformat_minor": 5
}
